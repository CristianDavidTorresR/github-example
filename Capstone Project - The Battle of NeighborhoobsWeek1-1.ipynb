{
 "cells": [
  {
   "cell_type": "markdown",
   "metadata": {},
   "source": [
    "<H1>The battle of the neighborhoods - Week 1</h1>\n"
   ]
  },
  {
   "cell_type": "markdown",
   "metadata": {},
   "source": [
    "<h2>Introduction and commercial problem:</h2>"
   ]
  },
  {
   "cell_type": "markdown",
   "metadata": {},
   "source": [
    "<h2>History of the problem:</h2>"
   ]
  },
  {
   "cell_type": "markdown",
   "metadata": {},
   "source": [
    "<body><text><font size=\"5\"><p align= center*left*right*justify>The city of Bogotá, the capital district of Colombia. It is the center of business, economy and financial capital of Colombia. It is multicultural. It provides many business opportunities and a favorable business environment. It has attracted many players from different markets. It is a global center of business and commerce. The city is an important center of banking and finance, retail, world trade.</p>\n",
    "This also means that the market is highly competitive. The cost of doing business is also one of the highest. Therefore, any new company or commercial expansion must be analyzed. The knowledge derived from the analysis will provide a good understanding of the business environment that will help to apply strategically to the market. This will help in risk reduction. And the return on investment will be reasonable.</p></text>"
   ]
  },
  {
   "cell_type": "markdown",
   "metadata": {},
   "source": [
    "<h2>Description of the problem:</h2>"
   ]
  },
  {
   "cell_type": "markdown",
   "metadata": {},
   "source": [
    "<text><font size=\"5\"><p align= center*left*right*justify><body><font size=\"5\"><p align= center*left*right*justify>A restaurant is a business that prepares and serves food and drinks to customers in exchange for money, whether paid before the meal, after the meal or with an open account. The city of Bogotá is famous for its excellent cuisine. Its food culture includes a variety of international and national cuisines influenced by the city's immigrant history.</p>Eastern immigrants, Italians, people from the Caribbean, Pacific and eastern plains of the country which have their own typical dishes and recipes.\n",
    "<ol><li>Italian immigrants: Bogota-style pizza and Italian cuisine</li>\n",
    "<li>Immigrants from areas of the country: Paisa tray, shrimp in sauce, boarded, ajiaco.</li>\n",
    "<li>Chinese restaurants and other Asian restaurants, sandwich restaurants, trattorias</li></ol>\n",
    "    restaurants and coffee shops are everywhere throughout the city.</li></ol></p></text>"
   ]
  },
  {
   "cell_type": "markdown",
   "metadata": {},
   "source": [
    "<text><font size=\"5\"><p align= center*left*right*justify><body><font size=\"5\">It is famous not only for pizzerias, cafes, but also for the excellent restaurants with stars such as Xagal, La Martina, Andrés Carne de Res. The city is home to \"almost a thousand of the best and most diverse haute cuisine restaurants in the world\" , according to newspaper \"El Espectador.\"</p>\n",
    "Therefore, it is clear that to survive in such a competitive market it is very important strategically strategic. It is necessary to study several factors to decide the location, stories such as:</p></text>\n"
   ]
  },
  {
   "cell_type": "markdown",
   "metadata": {},
   "source": [
    "<p align= center*left*right*justify><ul><font size=\"5\">\n",
    "<li>Bogota population</li>\n",
    "<li>Demography of the city of Bogotá</li>\n",
    "<li>How is the business center of Bogotá demographically constituted?</li>\n",
    "<li>Are there places like convention centers, offices, business centers?</li>\n",
    "<li>Who are the competitors in that location?</li>\n",
    "<li>City segmentation</li>\n",
    "<li>Untapped markets Saturated Markets, etc.</li>\n",
    "</ul></p>"
   ]
  },
  {
   "cell_type": "markdown",
   "metadata": {},
   "source": [
    "<text><font size=\"5\"><p align= center*left*right*justify><body><font size=\"5\">The Crepes and Waffles restaurant company. He has decided to open a new store to expand his market in the places of greater affluence of people of the executive or business environment, therefore, he needs to choose the correct location to install his new franchise, if he is successful, they can replicate the same in other situations . For this reason he has decided to invest in a technological solution that will allow him to know the best location of his next restaurant.</p></text>"
   ]
  },
  {
   "cell_type": "markdown",
   "metadata": {},
   "source": [
    "<h2>Target audiences:</h2>"
   ]
  },
  {
   "cell_type": "markdown",
   "metadata": {},
   "source": [
    "<text><p align= center*left*right*justify><font size=\"5\">To recommend the correct location, Crepes and Waffles has assigned me to lead the Data Science team. The objective is to locate and recommend to management which location in Bogotá will be the best option to establish your restaurant. The Administration also hopes to understand the basis of the recommendations made.\n",
    "This interests anyone who wants to start a new restaurant in the city of Bogotá D.C., Colombia.</p></text>"
   ]
  },
  {
   "cell_type": "markdown",
   "metadata": {},
   "source": [
    "<h2>Success Criteria:</h2>"
   ]
  },
  {
   "cell_type": "markdown",
   "metadata": {},
   "source": [
    "<text><p align= center*left*right*justify><font size=\"5\">The criterion of success of the project will be a good recommendation to choose the location where you will find the greatest influx of potential customers, based on the lack of such restaurants in that location, offices, Business Centers and nearby conventions.</p></text></body>"
   ]
  }
 ],
 "metadata": {
  "kernelspec": {
   "display_name": "Python",
   "language": "python",
   "name": "conda-env-python-py"
  },
  "language_info": {
   "codemirror_mode": {
    "name": "ipython",
    "version": 3
   },
   "file_extension": ".py",
   "mimetype": "text/x-python",
   "name": "python",
   "nbconvert_exporter": "python",
   "pygments_lexer": "ipython3",
   "version": "3.6.7"
  }
 },
 "nbformat": 4,
 "nbformat_minor": 4
}
